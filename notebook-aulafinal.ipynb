{
 "cells": [
  {
   "cell_type": "code",
   "execution_count": null,
   "metadata": {},
   "outputs": [],
   "source": []
  },
  {
   "cell_type": "markdown",
   "metadata": {},
   "source": [
    "# COMO COMPARTILHAR MEUS NOTEBOOKS \n",
    "\n",
    "Git e github: com essa parceria você pode compartilhar com o mundo os seus notebooks\n",
    "\n",
    "1. <b>Criar uma conta</b>\n",
    "2. Criar um repositorio \n",
    "3. Instalar um git\n",
    "4. Sincronizar o local com o remoto( clone=baixar)\n",
    "5. Subir o seu projeto\n",
    "\n",
    "links úteis:\n",
    "\n"
   ]
  },
  {
   "cell_type": "markdown",
   "metadata": {},
   "source": [
    "# COMANDOS BÁSICOS DO GIT\n",
    "\n",
    "1. Git init: inicializa o git\n",
    "2. <b> git status</b>\n",
    "2. <b> Git add.</b>: adiciona arquivos\n",
    "3. <b> Git commit -m \" salvando arquinos\"</b>: Salvar \n"
   ]
  }
 ],
 "metadata": {
  "language_info": {
   "name": "python"
  }
 },
 "nbformat": 4,
 "nbformat_minor": 2
}
